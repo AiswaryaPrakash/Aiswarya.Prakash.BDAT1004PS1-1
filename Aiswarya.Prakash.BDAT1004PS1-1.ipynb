{
 "cells": [
  {
   "cell_type": "markdown",
   "id": "b3f1ddff",
   "metadata": {},
   "source": [
    "# Question : 1\n",
    "\n",
    "What data type is each of the following?\n"
   ]
  },
  {
   "cell_type": "code",
   "execution_count": null,
   "id": "54e615e1",
   "metadata": {},
   "outputs": [],
   "source": [
    "5 - int\n",
    "5.0 - float\n",
    "5>1 - boolean\n",
    "'5' - char\n",
    "5*2 - int\n",
    "'5'*2 - int\n",
    "'5'+'2' - int\n",
    "5/2 - int\n",
    "5%2 - int\n",
    "{5,2,1} - array\n",
    "5==2 - boolean\n",
    "Pi(the number) - double"
   ]
  },
  {
   "cell_type": "markdown",
   "id": "80e893ca",
   "metadata": {},
   "source": [
    "# Question : 2\n",
    "\n",
    "Write (and evaluate) C# expressions that answer these questions:\n",
    "a. How many letters are there in 'Supercalifragilisticexpialidocious'?\n",
    "b. Does 'Supercalifragilisticexpialidocious' contain 'ice' as a substring? \n",
    "c. Which of the following words is the longest: Supercalifragilisticexpialidocious, Honorificabilitudinitatibus, or\n",
    "   Bababadalgharaghtakamminarronnkonn?\n",
    "d. Which composer comes first in the dictionary: 'Berlioz', 'Borodin', 'Brian','Bartok', 'Bellini', 'Buxtehude', 'Bernstein'.    Which one comes last?"
   ]
  },
  {
   "cell_type": "code",
   "execution_count": 3,
   "id": "9dd3a13c",
   "metadata": {},
   "outputs": [
    {
     "name": "stdout",
     "output_type": "stream",
     "text": [
      "Number of Letters: 34\r\n"
     ]
    }
   ],
   "source": [
    "//Answer - a\n",
    "//string type\n",
    "\n",
    "string str = \"Supercalifragilisticexpialidocious\";\n",
    "Console.WriteLine(\"Number of Letters: \"+str.Length);"
   ]
  },
  {
   "cell_type": "code",
   "execution_count": 43,
   "id": "51437e1d",
   "metadata": {},
   "outputs": [
    {
     "name": "stdout",
     "output_type": "stream",
     "text": [
      "Yes, 'Supercalifragilisticexpialidocious' contain 'ice' as a substring\r\n"
     ]
    }
   ],
   "source": [
    "//Answer - b\n",
    "//string type\n",
    "\n",
    "\n",
    "string str = \"Supercalifragilisticexpialidocious\";\n",
    "String value = \"ice\";\n",
    "if (str.Contains(value) == true)      \n",
    "Console.WriteLine(\"Yes, 'Supercalifragilisticexpialidocious' contain 'ice' as a substring\");\n",
    "else\n",
    "Console.WriteLine(\"substring 'ice' not present\");"
   ]
  },
  {
   "cell_type": "code",
   "execution_count": 14,
   "id": "0430d843",
   "metadata": {},
   "outputs": [
    {
     "name": "stdout",
     "output_type": "stream",
     "text": [
      "Supercalifragilisticexpialidocious\r\n"
     ]
    }
   ],
   "source": [
    "//Answer - c\n",
    "//Reference : https://www.w3resource.com/csharp-exercises/basic/csharp-basic-exercise-24.php\n",
    "\n",
    "\n",
    "string line = \"Supercalifragilisticexpialidocious Honorificabilitudinitatibus Bababadalgharaghtakamminarronnkonn\";\n",
    "string[] words = line.Split(new[] {\" \"}, StringSplitOptions.None);\n",
    "string word = \"\";\n",
    "int ctr = 0;\n",
    "foreach (string s in words)\n",
    "{\n",
    "  if (s.Length>ctr)\n",
    "  {\n",
    "    word = s;\n",
    "    ctr = s.Length;\n",
    "   \n",
    "  }\n",
    "}\n",
    "  Console.WriteLine(word);\n",
    "  \n",
    "  \n",
    "  \n",
    "\n",
    "  "
   ]
  },
  {
   "cell_type": "code",
   "execution_count": 21,
   "id": "fc8195d5",
   "metadata": {},
   "outputs": [
    {
     "name": "stdout",
     "output_type": "stream",
     "text": [
      "Bartok \n",
      "Bellini \n",
      "Berlioz \n",
      "Bernstein \n",
      "Borodin \n",
      "Brian \n",
      "Buxtehude \n"
     ]
    }
   ],
   "source": [
    "//Answer - d\n",
    "\n",
    "//Reference : https://www.c-sharpcorner.com/UploadFile/mahesh/sort-a-dictionary-by-value-in-C-Sharp/\n",
    "\n",
    "SortedDictionary<string, string>names = new SortedDictionary<string, string>();\n",
    "names.Add(\"Berlioz\", \"\");\n",
    "names.Add(\"Borodin\", \"\");\n",
    "names.Add(\"Brian\", \"\");\n",
    "names.Add(\"Bartok\", \"\");\n",
    "names.Add(\"Bellini\", \"\");\n",
    "names.Add(\"Buxtehude\", \"\");\n",
    "names.Add(\"Bernstein\", \"\");\n",
    "foreach (KeyValuePair<string, string>kv in names)\n",
    "{ \n",
    "      Console.WriteLine(kv.Key + \" \" + kv.Value);\n",
    "}"
   ]
  },
  {
   "cell_type": "markdown",
   "id": "cafc2b62",
   "metadata": {},
   "source": [
    "# Question : 3\n",
    "\n",
    "Implement function triangleArea(a,b,c) that takes as input the lengths of the 3 sides of a triangle and returns the area of the triangle. By Heron's formula, the area of a triangle with side lengths a, b, and c is s(s - a)(s -b)(s -c) , where \n",
    "s =(a+b+c)/2. "
   ]
  },
  {
   "cell_type": "code",
   "execution_count": 22,
   "id": "a4cc92c4",
   "metadata": {},
   "outputs": [
    {
     "data": {
      "text/html": [
       "<div class=\"dni-plaintext\">1.7320508075688772</div>"
      ]
     },
     "execution_count": 22,
     "metadata": {},
     "output_type": "execute_result"
    }
   ],
   "source": [
    "\n",
    "int a=2, b=2, c=2;\n",
    "    \n",
    "    \n",
    "     //calculate the value of s\n",
    "    int s = (a+b+c) / 2;\n",
    "    a=b=c=2;\n",
    "    //calculate the area using Heron's formula\n",
    "    double area = Math.Sqrt(s * (s - a) * (s - b) * (s - c));\n",
    "    //return the area calculated\n",
    "    return area;"
   ]
  },
  {
   "cell_type": "markdown",
   "id": "c2ab4aa2",
   "metadata": {},
   "source": [
    "# Question : 4\n",
    "\n",
    "Write a program in C# Sharp to separate odd and even integers in separate arrays. "
   ]
  },
  {
   "cell_type": "code",
   "execution_count": 26,
   "id": "4ee33334",
   "metadata": {},
   "outputs": [
    {
     "name": "stdout",
     "output_type": "stream",
     "text": [
      "Even Elements are:\n",
      "42\n",
      "56\n",
      "32\n",
      "Odd elements are:\n",
      "25\n",
      "47\n"
     ]
    }
   ],
   "source": [
    "\n",
    "\n",
    "        int i = 0; int j = 0; int k = 0;\n",
    "     \n",
    "        int[] arr1 = new int[5];\n",
    "        arr1[0] = 25;\n",
    "        arr1[1] = 47;\n",
    "        arr1[2] = 42;\n",
    "        arr1[3] = 56;\n",
    "        arr1[4] = 32;\n",
    "        int[] arr2 = new int[5];\n",
    "        int[] arr3 = new int[5];\n",
    "        for (i=0; i<5; i++)\n",
    "        {\n",
    "            if (arr1[i] % 2 == 0)\n",
    "            {\n",
    "                arr2[j] = arr1[i];\n",
    "                j++;\n",
    "            }\n",
    "            else\n",
    "            {\n",
    "                arr3[k] = arr1[i];\n",
    "                k++;\n",
    "\n",
    "            }\n",
    "\n",
    "            }\n",
    "        Console.WriteLine(\"Even Elements are:\");\n",
    "        for (i=0; i<j; i++)\n",
    "        {\n",
    "            Console.WriteLine(arr2[i]);\n",
    "\n",
    "        }\n",
    "        Console.WriteLine(\"Odd elements are:\");\n",
    "        for (i=0; i<k; i++)\n",
    "        {\n",
    "\n",
    "            Console.WriteLine(arr3[i]);\n",
    "        }\n",
    "    \n",
    "\n",
    "\n",
    "\n",
    "\n",
    "\n"
   ]
  },
  {
   "attachments": {},
   "cell_type": "markdown",
   "id": "b4326074",
   "metadata": {},
   "source": [
    "# Question : 5\n",
    "\n",
    "a. Write a function inside(x,y,x1,y1,x2,y2) that returns True or False depending on whether the point (x,y) lies in the rectangle with lower left corner (x1,y1) and upper right corner (x2,y2).\n",
    "b. Use function inside() from part a. to write an expression that tests whether the point (1,1) lies in both of the following rectangles: one with lower left corner (0.3, 0.5) and upper right corner (1.1, 0.7) and the other with lower left corner (0.5, 0.2) and upper right corner (1.1, 2). \n"
   ]
  },
  {
   "cell_type": "code",
   "execution_count": 40,
   "id": "c842df23",
   "metadata": {},
   "outputs": [
    {
     "name": "stdout",
     "output_type": "stream",
     "text": [
      "Yes"
     ]
    }
   ],
   "source": [
    "//Answer a\n",
    "\n",
    "//Function to find if given point lies inside a given rectangle or not.\n",
    " static bool inside(int x, int y, int x1, int y1, int x2, int y2)\n",
    "  \n",
    "  { \n",
    "   \n",
    "   if(x>x1 && x<x2 && y>y1 && y<y2)\n",
    "   return true;\n",
    "   return false;\n",
    "  }\n",
    "\n",
    "//bottom-left and top-right corners of rectangle\n",
    "    int x1 = 0, y1 = 0, x2 = 10, y2 = 8;\n",
    "    \n",
    "     //given point\n",
    "    int x = 1, y = 5;\n",
    "    \n",
    "     //function cal\n",
    "     \n",
    "    if (inside(x, y, x1, y1, x2, y2))\n",
    "    Console.Write(\"Yes\");\n",
    "    else\n",
    "    Console.Write(\"No\");\n",
    "        "
   ]
  },
  {
   "cell_type": "code",
   "execution_count": 42,
   "id": "a9aa4e84",
   "metadata": {},
   "outputs": [
    {
     "name": "stdout",
     "output_type": "stream",
     "text": [
      "no"
     ]
    }
   ],
   "source": [
    "//Function to find if given point lies inside a given rectangle or not.\n",
    " static bool inside(int x, int y, int x1, int y1, int x2, int y2)\n",
    "  \n",
    "  { \n",
    "   \n",
    "   if(x>x1 && x<x2 && y>y1 && y<y2)\n",
    "   return true;\n",
    "   return false;\n",
    "  }\n",
    "  //bottom-left and top-right corners of rectangle\n",
    " int x1 = 0, y1 = 0, x2 = 10, y2 = 8;\n",
    " \n",
    " //given point\n",
    " int x = 10, y = 10;\n",
    " \n",
    " //function call\n",
    " if (inside(x, y, x1, y1, x2, y2))\n",
    " Console.Write(\"yes\");\n",
    " else\n",
    " Console.Write(\"no\");"
   ]
  },
  {
   "cell_type": "markdown",
   "id": "2642111d",
   "metadata": {},
   "source": []
  },
  {
   "cell_type": "markdown",
   "id": "73cf6c13",
   "metadata": {},
   "source": []
  }
 ],
 "metadata": {
  "kernelspec": {
   "display_name": ".NET (C#)",
   "language": "C#",
   "name": ".net-csharp"
  },
  "language_info": {
   "file_extension": ".cs",
   "mimetype": "text/x-csharp",
   "name": "C#",
   "pygments_lexer": "csharp",
   "version": "9.0"
  }
 },
 "nbformat": 4,
 "nbformat_minor": 5
}
